{
 "cells": [
  {
   "cell_type": "markdown",
   "id": "5fe44fc0-df02-43c7-86af-a12c10227180",
   "metadata": {},
   "source": [
    "# Solve a Task\n",
    "\n",
    "In this experiment, we are going to construct a modular robot to solve a simple pick and place task. For that purpose, we provide a TrajectoryPlanner class - it takes over iteratively solving the inverse kinematics necessary to reach one or multiple goal poses and generates a trajectory between them."
   ]
  },
  {
   "cell_type": "code",
   "execution_count": null,
   "id": "2b52eba4-978b-4c31-ac25-61f0746baea1",
   "metadata": {},
   "outputs": [],
   "source": [
    "import datetime\n",
    "from pathlib import Path\n",
    "import time\n",
    "\n",
    "import numpy as np\n",
    "\n",
    "from timor.Geometry import Box, ComposedGeometry, Cylinder\n",
    "from timor.Module import ModuleAssembly, ModulesDB\n",
    "from timor.Robot import PinRobot\n",
    "from timor.scenario import CostFunctions, Solution, Tolerance\n",
    "from timor.scenario.Goals import Reach\n",
    "from timor.scenario.Obstacle import Obstacle\n",
    "from timor.scenario.Scenario import Scenario, ScenarioHeader\n",
    "from timor.utilities.dtypes import Trajectory\n",
    "from timor.utilities.file_locations import robots as robot_data\n",
    "from timor.utilities.file_locations import get_module_db_files\n",
    "import timor.utilities.logging as logging\n",
    "from timor.utilities.transformation import Transformation\n",
    "from timor.utilities.tolerated_pose import ToleratedPose\n",
    "from timor.utilities.spatial import rotX, rotZ\n",
    "\n",
    "from TrajectoryPlanner import TrajectoryPlanner  # Import the trajectory planner that is provided with this experiment"
   ]
  },
  {
   "cell_type": "markdown",
   "id": "b390af70-2616-439a-9d43-b99069d24726",
   "metadata": {},
   "source": [
    "## Define a Problem\n",
    "Our robot will be mounted on a desk and should pick an object from that desk an place it elsewhere.\n",
    "\n",
    "Note that timor is not a path planning library! It's purpose is to generate modular robot models, which can then be integrated simulation suites and various optimizers - so we keep the trajectory planning to the bare minimum here and only define goal poses for this task. The picking and placing itself will not be simulated,  as it should also not affect the efficiency of the robot performing the task."
   ]
  },
  {
   "cell_type": "code",
   "execution_count": null,
   "id": "1c139d2c-a80a-48cc-aa96-2a7524ff4459",
   "metadata": {},
   "outputs": [],
   "source": [
    "# Create a scenario\n",
    "header = ScenarioHeader(\n",
    "    scenarioID='Pick & Place',\n",
    "    tags=['ICRA2023', 'demo'],\n",
    "    date=datetime.datetime(2022, 9, 15),\n",
    "    author='Jonathan Külz',\n",
    "    authorEMail='jonathan.kuelz@tum.de',\n",
    "    affiliation='Technical University of Munich'\n",
    ")\n",
    "\n",
    "# Create a table and a plateau, the obstacles to deal with\n",
    "height = .4\n",
    "plateau_height = .04\n",
    "r_leg = 0.05\n",
    "dx = 1.6\n",
    "dy = .8\n",
    "dz = .05\n",
    "\n",
    "plateau_placement = Transformation.from_translation([.3 * dx, .2 * dy, height + dz/2 + plateau_height / 2])\n",
    "\n",
    "surface = Box(dict(x=dx, y=dy, z=dz), pose=Transformation.from_translation([0, 0, height]))\n",
    "legs = [\n",
    "    Cylinder(dict(r=r_leg, z=height),\n",
    "             pose=Transformation.from_translation([i * (dx / 2 - r_leg), j * (dy / 2 - r_leg), height / 2]))\n",
    "    for i, j in ((-1, -1), (-1, 1), (1, -1), (1, 1))\n",
    "]\n",
    "table = Obstacle(ID='table', collision=ComposedGeometry([surface] + legs))\n",
    "plateau = Obstacle(ID='plateau',\n",
    "                   collision=Box(dict(x=.3, y=.2, z=plateau_height), pose=plateau_placement))\n",
    "\n",
    "# Define the goals slightly above the table and the plateau - here would be the grapsing points\n",
    "first_goal = Reach(goal_id='Reach One',\n",
    "                   goal_pose=ToleratedPose(nominal=Transformation.from_translation([.55, .2, height + dz + plateau_height]) @ rotX(np.pi),\n",
    "                                           tolerance=Tolerance.CartesianSpheric.default()))\n",
    "second_goal = Reach(goal_id='Reach Two',\n",
    "                    goal_pose=ToleratedPose(nominal=Transformation.from_translation([-.55, .2, height + dz]) @ rotX(np.pi),\n",
    "                                            tolerance=Tolerance.CartesianSpheric.default()))\n",
    "\n",
    "scenario = Scenario(header, obstacles=[plateau, table], goals=[first_goal, second_goal])\n",
    "\n",
    "energy_cost = CostFunctions.MechanicalEnergy()"
   ]
  },
  {
   "cell_type": "code",
   "execution_count": null,
   "id": "c3b31023-03a1-40e5-8f93-bcc218878cef",
   "metadata": {},
   "outputs": [],
   "source": [
    "scenario.visualize()"
   ]
  },
  {
   "cell_type": "markdown",
   "id": "f8d50079-d647-4ba1-8212-8ef304d3c763",
   "metadata": {
    "tags": []
   },
   "source": [
    "Image"
   ]
  },
  {
   "cell_type": "markdown",
   "id": "13958113-15ce-49f4-8de4-e033cbcb86cf",
   "metadata": {
    "tags": []
   },
   "source": [
    "## Plan a trajectory\n",
    "Using the provided TrajectoryPlanner, we are now looking for a trajectory between our two goals:"
   ]
  },
  {
   "cell_type": "code",
   "execution_count": null,
   "id": "e988e461-7c30-4fc7-8897-7ada1072139b",
   "metadata": {},
   "outputs": [],
   "source": [
    "base_placement = Transformation.from_translation([0, 0, 1e-3 + height + dz / 2]) @ rotZ(np.pi / 2)\n",
    "\n",
    "modules = ('base', 'J2', 'J1', 'l_45', 'l_45', 'eef')\n",
    "db = ModulesDB.from_file(*get_module_db_files('geometric_primitive_modules'))\n",
    "assembly = ModuleAssembly.from_serial_modules(db, modules)\n",
    "modular = assembly.to_pin_robot(base_placement=base_placement)\n",
    "trajectory = TrajectoryPlanner(scenario, modular, trajectory_resolution=.04).solve()\n",
    "modular_solution = Solution.SolutionTrajectory(trajectory, {'scenarioID': scenario.id}, scenario=scenario, robot=modular, cost_function=energy_cost, base_pose=base_placement)\n",
    "modular_solution.visualize()"
   ]
  },
  {
   "cell_type": "code",
   "execution_count": null,
   "id": "1709df66-6876-4f2d-bf14-00176030762f",
   "metadata": {},
   "outputs": [],
   "source": [
    "trajectory.t.shape"
   ]
  },
  {
   "cell_type": "code",
   "execution_count": null,
   "id": "6e8b6342-232e-4d44-a45c-61a385624f38",
   "metadata": {},
   "outputs": [],
   "source": []
  }
 ],
 "metadata": {
  "kernelspec": {
   "display_name": "Python 3 (ipykernel)",
   "language": "python",
   "name": "python3"
  },
  "language_info": {
   "codemirror_mode": {
    "name": "ipython",
    "version": 3
   },
   "file_extension": ".py",
   "mimetype": "text/x-python",
   "name": "python",
   "nbconvert_exporter": "python",
   "pygments_lexer": "ipython3",
   "version": "3.9.13"
  }
 },
 "nbformat": 4,
 "nbformat_minor": 5
}
