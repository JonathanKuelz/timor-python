{
 "cells": [
  {
   "cell_type": "markdown",
   "id": "b6a43b8e-5002-42af-ba11-cd422c3adb6e",
   "metadata": {},
   "source": [
    "# Generate Kinematic Models of Assemblies\n",
    "\n",
    "Timor is built to generate kinematic and dynamic models of arbitrary configurations of robot modules (so-called assemblies). In this tutorial, we will first show how these models can be created using the builtin capabilities.\n",
    "\n",
    "Secondly, we are going to conduct a short timing **experiment**: How long does it take to generate a large number of models? More precisely, we are replicating some of the work done in the paper [Effortless creation of safe robots from modules through self-programming and self-verification](https://doi.org/10.1126/scirobotics.aaw1924). There, the authors define a module set called \"IMPROV\" which is builtin with Timor, and eliminate unfit configurations in a hierarchical procedure. We are going to time how long it takes Timor to generate all configurations proposed in this work."
   ]
  },
  {
   "cell_type": "code",
   "execution_count": null,
   "id": "456b7ea8-4cda-4642-833b-fa4a7df467de",
   "metadata": {},
   "outputs": [],
   "source": [
    "from pathlib import Path\n",
    "\n",
    "from timor.Module import ModuleAssembly, ModulesDB\n",
    "from timor.utilities.file_locations import get_module_db_files\n",
    "from timor.utilities import logging"
   ]
  },
  {
   "cell_type": "markdown",
   "id": "6d091320-2ce4-47de-93bd-746e66ef7f6e",
   "metadata": {},
   "source": [
    "The module set is builtin with timor - the data is [publicly available ](https://bitbucket.org/MatthiasAlthoff/improv/src/master) and has been transferred to the JSON format used by Timor by the authors of the toolbox."
   ]
  },
  {
   "cell_type": "code",
   "execution_count": null,
   "id": "6b8803c4-3bc5-40da-95c5-be71f8201e68",
   "metadata": {},
   "outputs": [],
   "source": [
    "logging.setLevel('WARN')\n",
    "db = ModulesDB.from_file(*get_module_db_files('IMPROV'))  # Note that currently, there is no support for compressed .wrl files - however, we can use the .stl files provided"
   ]
  },
  {
   "cell_type": "markdown",
   "id": "85c154cd-3b72-427e-b7b9-ac6bc2983bb1",
   "metadata": {},
   "source": [
    "### Generate a model\n",
    "To define a robot, one can specify modules and connections used for the assembly as [described in the documentation](https://timor-python.readthedocs.io/en/latest/autoapi/timor/index.html#timor.ModuleAssembly).\n",
    "For the sake of showcasing model generation, a random assembly serves our purpose just as well: Here, we assembly 13 modules -- twelve for which we make sure they are no end-effector, and a last one, which certainly is -- in a serial chain."
   ]
  },
  {
   "cell_type": "code",
   "execution_count": null,
   "id": "3747ba51-67e8-44d5-b9f5-e3e815b2ec9e",
   "metadata": {},
   "outputs": [],
   "source": [
    "assembly = ModuleAssembly(db)\n",
    "for _ in range(12):\n",
    "    assembly.add_random_from_db(lambda x: not any(c.type == 'eef' for c in x.available_connectors.values()))  # 12 non-end-effector modules\n",
    "assembly.add_random_from_db(lambda x: any(c.type == 'eef' for c in x.available_connectors.values()))  # one module with an eef connector"
   ]
  },
  {
   "cell_type": "markdown",
   "id": "f2a2e497-02a0-442a-9533-08fe7f55626a",
   "metadata": {},
   "source": [
    "### Get your robot model\n",
    "You can directly transfer the assembly to a \"PinRobot\" - a robot representation based on the [Pinocchio library](https://github.com/stack-of-tasks/pinocchio) for rigid body dynamic algorithms.\n",
    "\n",
    "It comes with useful capabilities, such as methods for forward and inverse kinematics, self-collision checks and visualization."
   ]
  },
  {
   "cell_type": "code",
   "execution_count": null,
   "id": "0d6ec5a1-c15a-456f-9a9b-d30d6acd1bff",
   "metadata": {},
   "outputs": [],
   "source": [
    "robot = assembly.to_pin_robot()\n",
    "robot.update_configuration(robot.random_configuration())\n",
    "eef_position = robot.fk()\n",
    "print(\"The relative transformation from base frame to end-effector frame is:\", eef_position.homogeneous, sep='\\n')"
   ]
  },
  {
   "cell_type": "markdown",
   "id": "43651128-a2aa-4365-9ee7-5d2850d9703a",
   "metadata": {},
   "source": [
    "### Get the URDF\n",
    "The [Unified Robot Description Format](http://wiki.ros.org/urdf) is a de-facto standard for describing manipulators. You can export any assembly with an open-chain kinematic (other are not natively supported by URDF) to the XML-based format and continue working with your robot model in any other simulation suite:"
   ]
  },
  {
   "cell_type": "code",
   "execution_count": null,
   "id": "cc05a589-292d-4c49-ac0b-6eedb545b592",
   "metadata": {},
   "outputs": [],
   "source": [
    "urdf = assembly.to_urdf(name='My First Timor Robot')\n",
    "print('\\n'.join(urdf.split('\\n')[:25]))  # Show the first 25 lines only to avoid cluttering the Notebook"
   ]
  },
  {
   "cell_type": "markdown",
   "id": "7b038c42-e080-4725-b2a9-4c970d6c3be9",
   "metadata": {},
   "source": [
    "# Experiment 1: How long does it take Timor to generate models?\n",
    "For replicating the work of Althoff et al. from their 2019 paper ([open acccess link](https://mediatum.ub.tum.de/doc/1506779/gy8gyea2c5vyn65ely4bnzom6.Althoff-2019-ScienceRobotics.pdf)), we provide an iterator which yields only robot assemblies that are valid based on the filter criteria described in the sections \"Search space reduction\" and \"Step-by-step elimination\".\n",
    "\n",
    "It is included in the \"confguration search\" module that implements lots of useful algorithms and helper methods for the search for an optimal assembly, given a task. We provide the following arguments as described in the paper:\n",
    "- We are looking for a with exactly 6 degrees of freedom\n",
    "- There can be at most 3 static \"links\" in between two joints\n",
    "- The first joint is placed directly after the base (which is the default, but could be changed)\n",
    "- After the last joint and before the end-effector, there can be 1 static extension (this is not mentioned in the paper, but in the supplementary material)"
   ]
  },
  {
   "cell_type": "code",
   "execution_count": null,
   "id": "0d5f75c9-1db7-46cf-ba9e-082ad73f8667",
   "metadata": {},
   "outputs": [],
   "source": [
    "from time import time\n",
    "from timor.configuration_search.LiuIterator import Science2019 as Science2019Iterator\n",
    "improv_iter = Science2019Iterator(db, min_dof=6, max_dof=6, max_links_between_joints=3, max_links_after_last_joint=1)  # This is the iterator\n",
    "print(\"There are {} different models this iterator can yield\".format(len(improv_iter)))"
   ]
  },
  {
   "cell_type": "markdown",
   "id": "fc70881a-c135-4e19-923a-957d6a78e5a9",
   "metadata": {},
   "source": [
    "Taking a close look at the paper and the supplemetary code provided by Althoff et al., you will realize this number is too high! In fact, there are some limitations they mention in their paper and their code that are not yet implemented in the importet iterator, so let's add them:"
   ]
  },
  {
   "cell_type": "code",
   "execution_count": null,
   "id": "5de1f3a0-2ec3-4746-810b-8481f9241050",
   "metadata": {},
   "outputs": [],
   "source": [
    "# First of all, the authors provide additional modules that were not used in the paper - we will eliminate them aswell\n",
    "not_in_paper = ('L7', 'L10', 'PB22', 'PB24')\n",
    "for module_name in not_in_paper:\n",
    "    db.remove(db.by_name[module_name])\n",
    "improv_iter = Science2019Iterator(db, min_dof=6, max_dof=6, max_links_between_joints=3, max_links_after_last_joint=1)  # Re-initialize the iterator for the filtered database\n",
    "\n",
    "improv_iter.joint_combinations = (('21', '21', '23'), ('21', '21', '21'))  # There are hardware limitations about which joints can be used in which order\n",
    "\n",
    "real_links = {'4', '5', '14', '15'}  # They make a distinction between \"links\" and \"extensions\" - there is at most one link between two joints, but up to two additional extensions\n",
    "def paper_compliant_combo(links: tuple[str]) -> bool:\n",
    "    \"\"\"We encode our knowledge about valid links and extensions in a filter method\"\"\"\n",
    "    is_link = tuple(link for link in links if link in real_links)\n",
    "    if len(is_link) != 1:\n",
    "        return False\n",
    "    if len(links) == 3:\n",
    "        if links[1] not in real_links:\n",
    "            return False\n",
    "    return True\n",
    "# Now we update the \"possible link combinations\" as described in the paper\n",
    "link_combinations_in_paper = tuple(link_combination for link_combination in improv_iter.link_combinations\n",
    "                                   if paper_compliant_combo(link_combination))\n",
    "improv_iter.link_combinations = link_combinations_in_paper\n",
    "\n",
    "# We have to re-do some of the initialization of the iterator class to make the changes work\n",
    "improv_iter.links_between_joints = improv_iter._identify_links_between_joints()\n",
    "improv_iter.augmented_end_effectors = tuple(aeef for aeef in improv_iter.augmented_end_effectors if not any(\n",
    "    real_link in aeef for real_link in real_links))  # Only extensions are allowed before the end effector, not all links\n",
    "improv_iter.joint_combinations_for_base_eef = improv_iter._identify_base_chain_eef()\n",
    "improv_iter._current_joint_combination = improv_iter.joint_combinations[improv_iter.state.joints]\n",
    "improv_iter._current_num_joint_combinations = len(improv_iter.valid_joint_combinations)\n",
    "improv_iter._current_num_joint_modules = len(improv_iter.joint_combinations[improv_iter.state.joints])\n",
    "\n",
    "print(\"Now, there are {} different models the iterator can yield\".format(len(improv_iter)))"
   ]
  },
  {
   "cell_type": "markdown",
   "id": "5d21e902-d3ca-4512-b855-15624a34eb7d",
   "metadata": {
    "tags": []
   },
   "source": [
    "This is exactly the number of combinations we expected. (You will also see that this piece of code is a duplicate of a unittest that led the development of this Iterator class -- an artifact of the test-driven-development that is one of the main coding principles of Timor)"
   ]
  },
  {
   "cell_type": "code",
   "execution_count": null,
   "id": "59d89d2a-8d3b-4c61-b224-a5645f163b2e",
   "metadata": {},
   "outputs": [],
   "source": [
    "t0 = time()\n",
    "for i, assembly in enumerate(improv_iter):\n",
    "    urdf = assembly.to_urdf()\n",
    "t1 = time()\n",
    "\n",
    "delta_t = t1 - t0\n",
    "print(f'It took {delta_t:.2f}s to generate {i+1} urdf models. This equals {1000 * (delta_t / (i+1)):.2f}ms/model')"
   ]
  },
  {
   "cell_type": "code",
   "execution_count": null,
   "id": "d6fa0c96-b5bc-4f5b-bf0a-21f99f27c90f",
   "metadata": {},
   "outputs": [],
   "source": []
  }
 ],
 "metadata": {
  "kernelspec": {
   "display_name": "Python 3 (ipykernel)",
   "language": "python",
   "name": "python3"
  },
  "language_info": {
   "codemirror_mode": {
    "name": "ipython",
    "version": 3
   },
   "file_extension": ".py",
   "mimetype": "text/x-python",
   "name": "python",
   "nbconvert_exporter": "python",
   "pygments_lexer": "ipython3",
   "version": "3.10.6"
  }
 },
 "nbformat": 4,
 "nbformat_minor": 5
}
