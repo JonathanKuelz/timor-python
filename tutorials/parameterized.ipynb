{
 "cells": [
  {
   "cell_type": "markdown",
   "id": "3ed2ef7c-965b-4358-879e-3bad5376d3ba",
   "metadata": {},
   "source": [
    "# Make use of parameterized modules\n",
    "\n",
    "Timor offers the utility package `parameterized` that allows users to easily generate robots with a fixed topology but changing body parameters."
   ]
  },
  {
   "cell_type": "code",
   "execution_count": null,
   "id": "db1943a0-5469-4578-9dfa-9022eca3b2f1",
   "metadata": {},
   "outputs": [],
   "source": [
    "import numpy as np\n",
    "from timor import parameterized, AtomicModule, Body, Connector, Geometry, ModuleAssembly, ModulesDB, ModuleHeader, Transformation\n",
    "from timor.utilities import spatial, visualization"
   ]
  },
  {
   "cell_type": "markdown",
   "id": "6abb9b0a-159e-4237-9373-c0ff9aac8682",
   "metadata": {},
   "source": [
    "We start by having a look at a simple parameterized link module.\n",
    "\n",
    "Adapt `l1` and `l2` to see how the link changes. Be aware that we defined (min, max) limits for the three parameters `r`, `l1` and `l2` to keep the proportions in a realistic range.\n",
    "We are using SI-standards, so the lengths and radius are given in meters."
   ]
  },
  {
   "cell_type": "code",
   "execution_count": null,
   "id": "95369964-372c-4b4a-8078-5fd4edd3f88a",
   "metadata": {},
   "outputs": [],
   "source": [
    "module_header = {'ID': 'L1', 'name': 'Parameterized L link'}\n",
    "l1 = .4\n",
    "l2 = .1\n",
    "r = .05\n",
    "my_link = parameterized.ParameterizedOrthogonalLink(module_header, lengths=(l1, l2), radius=r, limits=[(0, 0.08), (.1, 2), (.1, 1.8)])\n",
    "viz = my_link.debug_visualization()\n",
    "viz.viewer.jupyter_cell(height=350)"
   ]
  },
  {
   "cell_type": "markdown",
   "id": "7f461602-d621-42e9-bc5b-67323cc4b013",
   "metadata": {},
   "source": [
    "## Next, we create a parameterized robot\n",
    "\n",
    "In order to do so, we need multiple modules and also some joints -- note, how additional joint_parameters (such as joint limits - not to be confused with the dimensionality limits) can be passed along."
   ]
  },
  {
   "cell_type": "code",
   "execution_count": null,
   "id": "9269890a-9430-4c4c-ba3f-ca4e96b0998c",
   "metadata": {},
   "outputs": [],
   "source": [
    "l1 = my_link\n",
    "l2 = parameterized.ParameterizedCylinderLink({'ID': 'L2', 'name': 'L2'}, length=.5, radius=r, limits=[(0, 0.08), (.3, 2)])\n",
    "l3 = parameterized.ParameterizedCylinderLink({'ID': 'L3', 'name': 'L3'}, length=.3, radius=r, limits=[(0, 0.08), (.3, 1)])\n",
    "j1 = parameterized.ParameterizedOrthogonalJoint({'ID': 'J2', 'name': 'J2'}, lengths=(.35, .5), radius=r, limits=[(0, 0.08), (.1, 1), (.1, .8)], joint_parameters={'q_limits': (-1.6, 1.6)})\n",
    "j2 = parameterized.ParameterizedStraightJoint({'ID': 'J1', 'name': 'J1'}, length=.35, radius=r, limits=[(0, 0.08), (.3, 2)], joint_parameters={'q_limits': (-1.6, 1.6)})\n",
    "\n",
    "# Parameterized and atomic modules can be mixed (as long as they have matching connectors, but that's necessary for any combination of modules) - let's create a base module as well\n",
    "base_connectors = (\n",
    "    Connector('world', spatial.rotX(np.pi), gender='f', connector_type='base'),\n",
    "    Connector('out', Transformation.from_translation([0, 0, .1 / 2]), gender='m')\n",
    ")\n",
    "base_body = Body('base_body', Geometry.EmptyGeometry(), connectors=base_connectors)\n",
    "base = AtomicModule({'ID': 'B', 'name': 'base'}, bodies=(base_body,))\n",
    "\n",
    "# We gather all the modules in a database and create an assembly by providing that database and the according IDs\n",
    "db = ModulesDB({base, l1, l2, l3, j1, j2}, name='parameterized DB')\n",
    "assembly = ModuleAssembly.from_serial_modules(db, (base.id, l1.id, j1.id, l2.id, j2.id, l3.id))\n",
    "\n",
    "# As soon as we create a robot from an assembly, we \"freeze\" the parametric properties:\n",
    "robot = assembly.robot\n",
    "robot.update_configuration(np.array((2.1, .1)))\n",
    "rv = robot.visualize()\n",
    "rv.viewer.jupyter_cell(height=400)"
   ]
  },
  {
   "cell_type": "markdown",
   "id": "648af517-9689-455c-95f9-927add15df07",
   "metadata": {},
   "source": [
    "By \"freezing\", all parameterized modules are converted to AtomicModules. You can change `l2`, but this won't change the robot we created above."
   ]
  },
  {
   "cell_type": "code",
   "execution_count": null,
   "id": "53c23982-71d5-46e3-b661-97db3eb0fb8b",
   "metadata": {},
   "outputs": [],
   "source": [
    "frozen = l2.freeze()\n",
    "print(f\"Freezing converts a module of type {type(l2)} to a module of type {type(frozen)}\")\n",
    "print(f\"Compare, for example, the masses: {l2.mass:.4f}kg and {frozen.mass:.4f}kg\")\n",
    "l2.resize((r, 0.8))\n",
    "print(f\"After a resize, only the parameterized link changes - the frozen one remains unchanged: {l2.mass:.4f}kg and {frozen.mass:.4f}kg\")"
   ]
  },
  {
   "cell_type": "markdown",
   "id": "7ae8b63c-658e-4942-9825-fd58c86f4872",
   "metadata": {},
   "source": [
    "# Interactively change the module properties\n",
    "\n",
    "The benefit of parameterized modules is that their properties can be adapted dynamically. Here, we define a range of possible lengths for the \"distal part\" of our first link and the total length of bodies of the second joint and visualize how the robot changes. Pay attention to the meshcat window above!"
   ]
  },
  {
   "cell_type": "code",
   "execution_count": null,
   "id": "45171594-a691-49af-aea7-5f060c3f6c36",
   "metadata": {},
   "outputs": [],
   "source": [
    "link_lengths = np.linspace(.35, 1, 50)\n",
    "joint_lengths = np.linspace(1, .5, 50)\n",
    "\n",
    "from time import sleep\n",
    "for len_link, len_joint in zip(link_lengths, joint_lengths):\n",
    "    l1.resize((l1.radius, len_link, len_link))  # Resize expects parameters for radius, l1, and l2 -- here, we leave the radius unchanged\n",
    "    j2.resize((j2.radius, len_joint))\n",
    "    \n",
    "    # We need to re-instantiate the resulting robot model\n",
    "    robot = assembly.robot\n",
    "    robot.update_configuration(np.array((2.1, .1)))\n",
    "    robot.visualize(rv)\n",
    "    \n",
    "    sleep(.1)\n",
    "    rv.updatePlacements(visualization.VISUAL)"
   ]
  },
  {
   "cell_type": "code",
   "execution_count": null,
   "id": "ce0f2c8c-73ef-472a-99cf-b9938fe245f1",
   "metadata": {},
   "outputs": [],
   "source": []
  }
 ],
 "metadata": {
  "kernelspec": {
   "display_name": "Python 3 (ipykernel)",
   "language": "python",
   "name": "python3"
  },
  "language_info": {
   "codemirror_mode": {
    "name": "ipython",
    "version": 3
   },
   "file_extension": ".py",
   "mimetype": "text/x-python",
   "name": "python",
   "nbconvert_exporter": "python",
   "pygments_lexer": "ipython3"
  }
 },
 "nbformat": 4,
 "nbformat_minor": 5
}
