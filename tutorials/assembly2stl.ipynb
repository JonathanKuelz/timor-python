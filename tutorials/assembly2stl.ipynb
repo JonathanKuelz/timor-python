{
 "cells": [
  {
   "cell_type": "markdown",
   "id": "f1d5a7104d192b57",
   "metadata": {},
   "source": [
    "This demo shows how to export a module assembly to an STL file, e.g., for 3D printing, editing, subtracting from 3D scenes, etc. This is done via trimesh which also offers additional editing, export, etc. functionality as stated in their documentation."
   ]
  },
  {
   "cell_type": "code",
   "execution_count": null,
   "id": "4c587db688bff5c4",
   "metadata": {},
   "outputs": [],
   "source": [
    "import numpy as np\n",
    "from numpy import pi\n",
    "\n",
    "from timor import ModuleAssembly, ModulesDB"
   ]
  },
  {
   "cell_type": "code",
   "execution_count": null,
   "id": "6cc3b0b12f0a6731",
   "metadata": {},
   "outputs": [],
   "source": [
    "db = ModulesDB.from_name('IMPROV')\n",
    "# Create assembly and set configuration\n",
    "a = ModuleAssembly.from_serial_modules(db, ['1', '21', '4', '21', '15', '22', '5', '23', '12'])\n",
    "a.robot.update_configuration(np.array((0, pi / 7, -2 * pi / 7, 0, -pi / 7, 0, pi / 10, 0)))\n",
    "a.robot.visualize()  # Check location/configuration"
   ]
  },
  {
   "cell_type": "code",
   "execution_count": null,
   "id": "initial_id",
   "metadata": {},
   "outputs": [],
   "source": [
    "# Freeze as trimesh and export\n",
    "tri = a.export_to_trimesh()\n",
    "file_name = \"improv_long.stl\"\n",
    "tri.export(file_name, \"stl\")\n",
    "print(f\"Exported to {file_name}\")"
   ]
  },
  {
   "cell_type": "markdown",
   "id": "9c0a11cb227117eb",
   "metadata": {},
   "source": [
    "You can now open this file in a 3D editor, 3D printer slicer, or similar, s.a., meshlab."
   ]
  }
 ],
 "metadata": {
  "kernelspec": {
   "display_name": "Python 3",
   "language": "python",
   "name": "python3"
  },
  "language_info": {
   "codemirror_mode": {
    "name": "ipython",
    "version": 2
   },
   "file_extension": ".py",
   "mimetype": "text/x-python",
   "name": "python",
   "nbconvert_exporter": "python",
   "pygments_lexer": "ipython2"
  }
 },
 "nbformat": 4,
 "nbformat_minor": 5
}
