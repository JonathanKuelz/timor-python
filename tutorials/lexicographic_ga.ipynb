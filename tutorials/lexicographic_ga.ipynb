{
 "cells": [
  {
   "cell_type": "markdown",
   "id": "1512d27c-22c7-4b7b-b56d-3231165f67ea",
   "metadata": {},
   "source": [
    "# Welcome to Lexicographic Genetic Optimization\n",
    "\n",
    "In this tutorial, we will have a look at genetic algorithms with a lexicographic genetic fitness function and their application to module composition optimization.\n",
    "\n",
    "For more information, have a look at our [paper](https://arxiv.org/abs/2209.06758) \"Optimizing Modular Robot Composition: A Lexicographic Genetic Algorithm Approach\" and the corresponding [website](https://lexicographic-ga.cps.cit.tum.de/).\n",
    "\n",
    "The implementation of the Genetic Algorithm is based on `pygad`. You can find the documentation of the library [here](https://pygad.readthedocs.io/en/latest/)."
   ]
  },
  {
   "cell_type": "code",
   "execution_count": null,
   "id": "3c8d6915-80f9-41e7-81b8-161d23631c3c",
   "metadata": {},
   "outputs": [],
   "source": [
    "import pygad\n",
    "import timor"
   ]
  },
  {
   "cell_type": "markdown",
   "id": "2e089353-1a39-4090-91ce-e0d5f06c4670",
   "metadata": {},
   "source": [
    "## What is a lexicographic fitness?\n",
    "Simply said, a lexicographic fitness function is a **hierarchical** structure that contains multiple scalar values that are arranged in a strict order.\n",
    "Based on these values, we can define a lexicographic **ordering** that is used during the selection phase of a genetic algorithm.\n",
    "Timor comes with its own implementation of a lexicographic value:"
   ]
  },
  {
   "cell_type": "code",
   "execution_count": null,
   "id": "5905046c-e7d4-4bd2-889f-9c3f1acea7c2",
   "metadata": {},
   "outputs": [],
   "source": [
    "from timor.utilities.dtypes import Lexicographic"
   ]
  },
  {
   "cell_type": "code",
   "execution_count": null,
   "id": "61de2fad-66f4-4c7c-8e49-0fbd9f8e629a",
   "metadata": {},
   "outputs": [],
   "source": [
    "attributes = {  # Assume we computed the following lexicographic values for four different solution candidates\n",
    "    1: (0.5, 0.8, 0.1),\n",
    "    2: (0.2, 0.8, 0.1),\n",
    "    3: (0.5, 0.4, 0.1),\n",
    "    4: (0.5, 0.8, 0.4),\n",
    "}\n",
    "\n",
    "# We can manually create a lexicographic value from these attributes\n",
    "fitness_one = Lexicographic(*attributes[1])\n",
    "fitness_two = Lexicographic(*attributes[2])\n",
    "fitness_three = Lexicographic(*attributes[3])\n",
    "fitness_four = Lexicographic(*attributes[4])\n",
    "all_fitness = (fitness_one, fitness_two, fitness_three, fitness_four)\n",
    "\n",
    "# It is now possible to compare them:\n",
    "print(\"The first fitness is {} than the second fitness\".format(\"larger\" if fitness_one > fitness_two else \"smaller\"))"
   ]
  },
  {
   "cell_type": "markdown",
   "id": "fa4cb438-c805-40cc-8c98-1e4e0fcb856c",
   "metadata": {},
   "source": [
    "Even better, numpy can also work with the Lexicographic data type."
   ]
  },
  {
   "cell_type": "code",
   "execution_count": null,
   "id": "cf25c707-8356-4e88-b10d-96cc1771799b",
   "metadata": {},
   "outputs": [],
   "source": [
    "import numpy as np\n",
    "order = np.argsort(all_fitness)\n",
    "print(\"The order of fitness values, in ascending order, is:\", ', '.join(str(i + 1) for i in order))\n",
    "print(\"The values of the highest fitness are:\", np.max(all_fitness).values)"
   ]
  },
  {
   "cell_type": "markdown",
   "id": "fd2df892-e6ed-4ec3-817d-ae4df369e3d0",
   "metadata": {},
   "source": [
    "One more nice thing about the lexicographic type: It doesn't matter which elements you assign to it, as long as they support the < and > operation:"
   ]
  },
  {
   "cell_type": "code",
   "execution_count": null,
   "id": "bfe48fe6-420e-4b38-8d38-c50d1042e02e",
   "metadata": {},
   "outputs": [],
   "source": [
    "print(\"a > b\", \"a\" > \"b\")\n",
    "print(\"C > D\", \"C\" > \"D\")\n",
    "print(\"Lexicographic Comparison 1:\", Lexicographic(\"a\", \"a\") > Lexicographic(\"a\", \"b\"))\n",
    "print(\"Lexicographic Comparison 2:\", Lexicographic(\"D\", \"b\") > Lexicographic(\"C\", \"a\"))"
   ]
  },
  {
   "cell_type": "code",
   "execution_count": null,
   "id": "d2635e42-cbaf-4b44-bbc4-8b4290a1c41b",
   "metadata": {},
   "outputs": [],
   "source": [
    "# You can even nest them:\n",
    "nested_one = Lexicographic(fitness_one, fitness_two)\n",
    "nested_two = Lexicographic(fitness_two, fitness_one)\n",
    "print(nested_one > nested_two)"
   ]
  },
  {
   "cell_type": "markdown",
   "id": "f5742910-50c5-49b9-b9c3-c51ab2cbe671",
   "metadata": {},
   "source": [
    "# Genetic Algorithms with Timor\n",
    "In timor, we use GAs to optimize module compositions. In order to do so, we first need some modules."
   ]
  },
  {
   "cell_type": "code",
   "execution_count": null,
   "id": "6f7beff2-7551-430c-8528-394c401cfa7e",
   "metadata": {},
   "outputs": [],
   "source": [
    "from timor import ModuleAssembly, ModulesDB\n",
    "from timor.configuration_search.GA import GA"
   ]
  },
  {
   "cell_type": "code",
   "execution_count": null,
   "id": "b158ba05-9943-4442-bf53-b7364224b61e",
   "metadata": {},
   "outputs": [],
   "source": [
    "db = ModulesDB.from_name('modrob-gen2')  # This loads the module library we used in \"Optimizing Modular Robot Composition: A Lexicographic Genetic Algorithm Approach\""
   ]
  },
  {
   "cell_type": "markdown",
   "id": "2893006e-3139-4da0-b90c-406bcfb54fde",
   "metadata": {},
   "source": [
    "We want to visualize our modules and the optimization results. In timor, we use the meshcat visualizer for that purpose. For more details, refer to the other tutorials:"
   ]
  },
  {
   "cell_type": "code",
   "execution_count": null,
   "id": "29356ea5-ed16-40f5-8a4d-fb9910c7f78b",
   "metadata": {},
   "outputs": [],
   "source": [
    "from timor.utilities.visualization import MeshcatVisualizer, clear_visualizer\n",
    "viz = MeshcatVisualizer()\n",
    "viz.initViewer()\n",
    "db.debug_visualization(viz)  # Let's have a look at the modules we just loaded"
   ]
  },
  {
   "cell_type": "markdown",
   "id": "52118724-d9c7-4487-8402-eca68f235e46",
   "metadata": {},
   "source": [
    "## Setting up the optimization\n",
    "Next to the modules, we can also define custom hyperparameters, and of course, we need to define a **fitness function**:\n",
    "\n",
    "The fitness function needs to fulfill the following criteria:\n",
    "- It takes three input arguments: 1) A ModuleAssembly, 2) a pygad.GA instance, 3) an integer indicating the index of a solution candidate of the population\n",
    "- It doesn't need to use these arguments, but you probably want it to use at least the assembly.\n",
    "- It returns a single value, the **fitness value**. This value should either be of datatype `float` or `Lexicographic`. It is important that this return type should always be the same."
   ]
  },
  {
   "cell_type": "code",
   "execution_count": null,
   "id": "b7d6c045-02ca-4474-b3b9-1167689087ab",
   "metadata": {},
   "outputs": [],
   "source": [
    "our_hyperparameters = {\n",
    "    'population_size': 10,\n",
    "    'num_generations': 50,\n",
    "    'num_genes': 6,\n",
    "    'save_solutions_dir': None\n",
    "}"
   ]
  },
  {
   "cell_type": "code",
   "execution_count": null,
   "id": "32d73357-cae4-46a3-8fb5-8459235a8dbc",
   "metadata": {},
   "outputs": [],
   "source": [
    "def fitness_scalar(assembly: ModuleAssembly, ga_instance: pygad.GA, index: int) -> float:\n",
    "    \"\"\"We start with a very simple fitness function that returns the negative mass of the assembly\"\"\"\n",
    "    return -assembly.mass"
   ]
  },
  {
   "cell_type": "code",
   "execution_count": null,
   "id": "865d1530-be1a-4ffa-b88a-b7073480b5c8",
   "metadata": {},
   "outputs": [],
   "source": [
    "ga = GA(db, our_hyperparameters)  # We set up an instance of the optimization algorithm by providing the modules we want to use and the hyperparameters. If we do not provide custom hyperparameters, timor defaults will be used"
   ]
  },
  {
   "cell_type": "markdown",
   "id": "509e03d8-4c1c-42e1-ba46-f67f653d916d",
   "metadata": {},
   "source": [
    "## Starting the optimization\n",
    "After setting up the optimization instance and the fitness function, we can start with the optimization.\n",
    "\n",
    "In this case, we would expect that the algorithm finds assemblies with a small weight, as our fitness criterion is given by the mass of the robot. Let's see:"
   ]
  },
  {
   "cell_type": "code",
   "execution_count": null,
   "id": "8c50a45d-ba9c-4b89-9a33-5a53bb0e59e9",
   "metadata": {},
   "outputs": [],
   "source": [
    "ga_optimizer = ga.optimize(fitness_function=fitness_scalar, save_best_solutions=False)"
   ]
  },
  {
   "cell_type": "code",
   "execution_count": null,
   "id": "fe2c5cc1-d1f8-4c4e-8b9e-bf72ece4e117",
   "metadata": {},
   "outputs": [],
   "source": [
    "print(\"The best robot in the initial population had a mass of:\", -ga_optimizer.best_solutions_fitness[0], \"kg\")\n",
    "print(\"The best robot had a mass of:\", -ga_optimizer.best_solution()[1], \"kg\")\n",
    "print(\"The best robot had\", len([module for module in ga_optimizer.best_solution()[0] if module != 0]), \"modules\")"
   ]
  },
  {
   "cell_type": "markdown",
   "id": "3c97dea7-692e-4b15-8621-1a45a5e419c6",
   "metadata": {},
   "source": [
    "Apparently, the GA was able to optimize the robot, leading to a lightweight robot. It did so by deleting as many modules as possible from the robot. Next, Let's define a lexicographic fitness function and see if the mass can be optimized without this \"hack\":"
   ]
  },
  {
   "cell_type": "code",
   "execution_count": null,
   "id": "515b88ee-283f-4c4f-96c9-c3655017d94a",
   "metadata": {},
   "outputs": [],
   "source": [
    "def fitness_lexicographic(assembly: ModuleAssembly, ga_instance: pygad.GA, index: int) -> Lexicographic:\n",
    "    \"\"\"\n",
    "    This fitness function returns a lexicographic value, where the\n",
    "    \n",
    "    - first value indicates the number of modules in the robot, and\n",
    "    - the second value the minus of the total mass\n",
    "    \"\"\"\n",
    "    return Lexicographic(len(assembly.module_instances), -assembly.mass)"
   ]
  },
  {
   "cell_type": "code",
   "execution_count": null,
   "id": "15ab03e9-c149-42f3-8b3f-631ec3a5bd27",
   "metadata": {},
   "outputs": [],
   "source": [
    "ga_optimizer = ga.optimize(fitness_function=fitness_lexicographic, save_best_solutions=False)  # we can use the same GA instance, but with the new fitness function"
   ]
  },
  {
   "cell_type": "code",
   "execution_count": null,
   "id": "167e1864-bcf2-454b-a167-c4094fdd069a",
   "metadata": {},
   "outputs": [],
   "source": [
    "print(\"The best robot in the initial population had {} modules and a mass of {:.3f}kg.\".format(ga_optimizer.best_solutions_fitness[0].values[0], -ga_optimizer.best_solutions_fitness[0].values[1]))\n",
    "print(\"The best robot had {} modules and a mass of {:.3f}kg.\".format(ga_optimizer.best_solution()[1].values[0], -ga_optimizer.best_solution()[1].values[1]))"
   ]
  },
  {
   "cell_type": "markdown",
   "id": "fab07e00-de8a-435e-8b61-387cf7a8f7db",
   "metadata": {},
   "source": [
    "## How to proceed from here on?\n",
    "\n",
    "This tutorial just transmits some basics. For further reference, please refer to the documentation of the GA module (here)[https://timor-python.readthedocs.io/en/latest/autoapi/timor/configuration_search/GA/index.html]. There you can learn how to:\n",
    "\n",
    "- Change default hyperparameters\n",
    "- Track the progress of the optimization with weights and biases (wandb)\n",
    "- How to cache intermediate results to save runtime\n",
    "- How to include different callbacks in the optimization to achieve various logging and visualization features\n",
    "- How to define custom mutation, crossover, or selection algorithms"
   ]
  },
  {
   "cell_type": "code",
   "execution_count": null,
   "id": "11762d2b-6b27-45ca-8481-afd919a1466d",
   "metadata": {},
   "outputs": [],
   "source": []
  }
 ],
 "metadata": {
  "kernelspec": {
   "display_name": "Python 3 (ipykernel)",
   "language": "python",
   "name": "python3"
  },
  "language_info": {
   "codemirror_mode": {
    "name": "ipython",
    "version": 3
   },
   "file_extension": ".py",
   "mimetype": "text/x-python",
   "name": "python",
   "nbconvert_exporter": "python",
   "pygments_lexer": "ipython3"
  }
 },
 "nbformat": 4,
 "nbformat_minor": 5
}
