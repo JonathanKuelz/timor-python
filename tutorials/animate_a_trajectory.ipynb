{
 "cells": [
  {
   "cell_type": "markdown",
   "id": "eddb3214-64fb-4912-a879-c06418bb81ff",
   "metadata": {},
   "source": [
    "# Make your robot move: Generate a Video"
   ]
  },
  {
   "cell_type": "markdown",
   "id": "9f976dd9-cc4f-4130-933a-a74e6d46d717",
   "metadata": {},
   "source": [
    "In this notebook, we are going to generate a short video for a random robot movement you can watch in your browser.\n",
    "\n",
    "First of all, we need some modules. You can create some simple modules built from geometric primitives yourself - there is a distinct tutorial to that purpose. If you don't want to, we can use the set of simple modules provided with the timor source code:"
   ]
  },
  {
   "cell_type": "code",
   "execution_count": null,
   "id": "a67e4d4d-33b5-42f6-8f95-648124867aa3",
   "metadata": {},
   "outputs": [],
   "source": [
    "from pathlib import Path\n",
    "\n",
    "# provide your own filepaths if you already did the module generation tutorial:\n",
    "your_modules_json = Path('')\n",
    "your_assets_directory = Path('')\n",
    "\n",
    "if your_modules_json == Path(''):\n",
    "    from timor.utilities.file_locations import get_module_db_files\n",
    "    modules_file, assets_dir = get_module_db_files('geometric_primitive_modules')"
   ]
  },
  {
   "cell_type": "markdown",
   "id": "b994624a-daa0-4ad7-b5d2-9060391f5ab5",
   "metadata": {},
   "source": [
    "Let's get to the heart of it, the video generation. A short explanation of what is going to happen:\n",
    "- The Module set is loaded from the files provided\n",
    "- We define a chain of modules that are being assembled to a robot\n",
    "- The robot is brough in a random position and we interpolate movement to another random position"
   ]
  },
  {
   "cell_type": "code",
   "execution_count": null,
   "id": "fdad6ede-6956-4d5e-b288-695b9bae384c",
   "metadata": {},
   "outputs": [],
   "source": [
    "import numpy as np\n",
    "from timor.Module import *\n",
    "from timor.utilities.visualization import animation\n",
    "\n",
    "db = ModulesDB.from_file(modules_file, assets_dir)\n",
    "modules = ('base', 'J2', 'i_45', 'J2', 'J2', 'eef')\n",
    "A = ModuleAssembly.from_serial_modules(db, modules)\n",
    "robot = A.to_pin_robot()\n",
    "q0 = np.zeros((robot.njoints,))\n",
    "q1 = robot.random_configuration()\n",
    "trajectory = np.linspace(q0, q1)\n",
    "animation(robot, trajectory, dt=.1)"
   ]
  },
  {
   "cell_type": "markdown",
   "id": "1f1cde89-5d9f-43f7-8eda-1f4a38dd2c3a",
   "metadata": {},
   "source": [
    "Note that at no point, we check whether the movement we provide is actually possible! In fact, self-collisions are pretty likely given tha trajectory we have chosen is just random. Still, it is going to be visualized - you could stop the movie when a collision appears, but that's up to you. For development, it might be pretty useful to see everything, even if it would not be possible in the real world!"
   ]
  },
  {
   "cell_type": "markdown",
   "id": "ad635cf0-695c-496b-b4af-459d27b356a7",
   "metadata": {},
   "source": [
    "## Save your video\n",
    "You can also save the video as a local file. Before you do so, make sure _ffmpeg_ is installed on your system.\n",
    "\n",
    "First, create an animation (you could also use the one from above):"
   ]
  },
  {
   "cell_type": "code",
   "execution_count": null,
   "id": "55f15230-d2a2-430c-8234-a4c99949610f",
   "metadata": {},
   "outputs": [],
   "source": [
    "q2 = np.array([np.pi, -np.pi/2, np.pi/2])\n",
    "new_trajectory = np.linspace(q1, q2)\n",
    "animation(robot, new_trajectory, .1)"
   ]
  },
  {
   "cell_type": "markdown",
   "id": "db563989-4d3d-421f-bf8d-d8549914c903",
   "metadata": {},
   "source": [
    "Now it's your turn: **Download the video** from the meshcat visualizer. On the sidebar under \"Animations\" -> \"Recording\" -> \"record\" you get a .tar file to download. Specify it's location on your local PC in the next cell. (do not change the format option to jpeg)\n",
    "\n",
    "![record_button](img/video_download.png)"
   ]
  },
  {
   "cell_type": "code",
   "execution_count": null,
   "id": "b4333fdc-22f8-4f03-a15e-6ad20b6a93a5",
   "metadata": {},
   "outputs": [],
   "source": [
    "your_video_file = '<...>.tar'  # TODO: Enter your file location here\n",
    "your_output_path = '<...>.mp4'  # TODO: Enter your file location here"
   ]
  },
  {
   "cell_type": "code",
   "execution_count": null,
   "id": "0c7b4873-6ec3-4fb2-ba9c-a663f403f04c",
   "metadata": {},
   "outputs": [],
   "source": [
    "from meshcat.animation import convert_frames_to_video\n",
    "\n",
    "# You can adapt the settings, but be aware that ffmpeg may have trouble dealing with low framerates\n",
    "convert_frames_to_video(your_video_file, your_output_path, framerate=60, overwrite=True)"
   ]
  },
  {
   "cell_type": "code",
   "execution_count": null,
   "id": "7a1bf11e-02ff-4649-bc59-6442339583c6",
   "metadata": {},
   "outputs": [],
   "source": []
  }
 ],
 "metadata": {
  "kernelspec": {
   "display_name": "Python 3 (ipykernel)",
   "language": "python",
   "name": "python3"
  },
  "language_info": {
   "codemirror_mode": {
    "name": "ipython",
    "version": 3
   },
   "file_extension": ".py",
   "mimetype": "text/x-python",
   "name": "python",
   "nbconvert_exporter": "python",
   "pygments_lexer": "ipython3",
   "version": "3.10.6"
  }
 },
 "nbformat": 4,
 "nbformat_minor": 5
}
