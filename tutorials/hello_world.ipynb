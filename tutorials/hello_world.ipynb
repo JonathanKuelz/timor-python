{
 "cells": [
  {
   "cell_type": "markdown",
   "id": "29f5726e-470e-465e-aa13-c3d97f78c7c0",
   "metadata": {},
   "source": [
    "# Hello World\n",
    "In this notebook, we will load a pre-defined robot, move it to a random position and visualize it"
   ]
  },
  {
   "cell_type": "code",
   "execution_count": null,
   "id": "2340d1cc-6660-4d20-859c-3e65ae43c076",
   "metadata": {},
   "outputs": [],
   "source": [
    "import timor\n",
    "from timor.utilities import prebuilt_robots"
   ]
  },
  {
   "cell_type": "code",
   "execution_count": null,
   "id": "e5428e32-18f7-442f-b2ff-844c2e90b02d",
   "metadata": {},
   "outputs": [],
   "source": [
    "default_robot = prebuilt_robots.get_six_axis_modrob()  # We provide a simple robot built from geometric primitives\n",
    "print(default_robot.configuration)"
   ]
  },
  {
   "cell_type": "markdown",
   "id": "b63be812-4afc-4f81-9c1e-ee955ed9ffe1",
   "metadata": {},
   "source": [
    "We can see that the default robot comes with a joint configuration different from all-zeros.\n",
    "For this module configuration, it would be in self-collision otherwise. Let's have a look at the robot:"
   ]
  },
  {
   "cell_type": "code",
   "execution_count": null,
   "id": "dc8d2299-7879-4506-8a95-98b3cc3e3b4f",
   "metadata": {},
   "outputs": [],
   "source": [
    "viz = default_robot.visualize()"
   ]
  },
  {
   "cell_type": "markdown",
   "id": "f2dce01a-6f31-4fb5-97fa-26a5d417ca2c",
   "metadata": {},
   "source": [
    "The modules are just geometric primitives (boxes, cylinders, spheres). For example, you can see the end effector is abstracted by a small sphere.\n",
    "\n",
    "You can change the robot joint angles and update the visualizer (depending on your browser, reloading the visualizer might be necessary):"
   ]
  },
  {
   "cell_type": "code",
   "execution_count": null,
   "id": "089a9926-5827-4e13-a284-2ccd8904cef9",
   "metadata": {},
   "outputs": [],
   "source": [
    "import numpy as np\n",
    "\n",
    "q = default_robot.q\n",
    "q[-2] = -np.pi / 3  # Move the second-last joint\n",
    "default_robot.update_configuration(q, geometry=True)\n",
    "viz.updatePlacements(timor.visualization.VISUAL)  # We need to tell the visualizer to update"
   ]
  },
  {
   "cell_type": "code",
   "execution_count": null,
   "id": "03477b82-e26b-41a0-a1dc-95f059d0d2f4",
   "metadata": {},
   "outputs": [],
   "source": [
    "viz.viewer.jupyter_cell(height=800)"
   ]
  }
 ],
 "metadata": {
  "kernelspec": {
   "display_name": "Python 3 (ipykernel)",
   "language": "python",
   "name": "python3"
  },
  "language_info": {
   "codemirror_mode": {
    "name": "ipython",
    "version": 3
   },
   "file_extension": ".py",
   "mimetype": "text/x-python",
   "name": "python",
   "nbconvert_exporter": "python",
   "pygments_lexer": "ipython3"
  }
 },
 "nbformat": 4,
 "nbformat_minor": 5
}
